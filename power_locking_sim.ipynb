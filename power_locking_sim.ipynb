{
 "cells": [
  {
   "cell_type": "markdown",
   "metadata": {},
   "source": [
    "## Importations des modules"
   ]
  },
  {
   "cell_type": "code",
   "execution_count": 3,
   "metadata": {},
   "outputs": [],
   "source": [
    "# Creation of a random input signal in order to test the operations and the scheme before using directly RedPitaya Card\n",
    "# and the RedPitaya Python API\n",
    "\n",
    "import random \n",
    "import time \n",
    "import numpy as np \n",
    "import matplotlib.pyplot as plt \n",
    "# import pyqt \n",
    "# import os \n",
    "# import tqdm\n",
    "# import pandas as pd \n",
    "from simple_pid import PID\n",
    "import matplotlib.animation as animation\n",
    "import threading\n"
   ]
  },
  {
   "cell_type": "markdown",
   "metadata": {},
   "source": [
    "## Simulation du signal"
   ]
  },
  {
   "cell_type": "code",
   "execution_count": 15,
   "metadata": {},
   "outputs": [
    {
     "name": "stderr",
     "output_type": "stream",
     "text": [
      "C:\\Users\\remyl\\AppData\\Local\\Temp\\ipykernel_29048\\1535552925.py:91: UserWarning: frames=None which we can infer the length of, did not pass an explicit *save_count* and passed cache_frame_data=True.  To avoid a possibly unbounded cache, frame data caching has been disabled. To suppress this warning either pass `cache_frame_data=False` or `save_count=MAX_FRAMES`.\n",
      "  ani = animation.FuncAnimation(fig, update, interval=interval, blit=True)\n"
     ]
    },
    {
     "data": {
      "image/png": "[encoded data removed]",
      "text/plain": [
       "<Figure size 640x480 with 1 Axes>"
      ]
     },
     "metadata": {},
     "output_type": "display_data"
    }
   ],
   "source": [
    "# A first model of the laser power variation is to set the slow variations to be sinusoidal (with small amplitude) and the fast fluctuations \n",
    "# to be noise \n",
    "\n",
    "\n",
    "# Global variable to control the simulation\n",
    "simulation_ON = True\n",
    "\n",
    "def simulate_photodiode_signal(offset, frequency, amplitude, sampling_rate, noise_levels, t):\n",
    "    \"\"\"\n",
    "    Simulate a signal from a photodiode illuminated by a laser, including various types of noise.\n",
    "    \n",
    "    Parameters:\n",
    "    - offset: mean value of the pure photodiode signal \n",
    "    - frequency: Frequency of the laser signal (Hz) -> we assume this to be locked by another process (still with slight fluctuations)\n",
    "    - amplitude of the laser power variations \n",
    "    - sampling_rate: Sampling rate (samples per second) of the RedPitaya (depending on the decimation)\n",
    "    - noise_levels: Dictionary with noise levels for different types of noise\n",
    "    - t: Time array\n",
    "    - C: proportionnality coefficient between the Voltage (signal) of the photodiode and the laser power\n",
    "    \n",
    "    Returns:\n",
    "    - signal: Simulated photodiode signal\n",
    "    \"\"\"\n",
    "    signal = (amplitude * np.sin(2 * np.pi * frequency * t) + offset)   # Pure photodiode signal when no fluctuations, proportionnal \n",
    "                                                                        # to the mean value of the power of the laser \n",
    "    \n",
    "    # Adding shot noise\n",
    "    shot_noise = np.random.normal(0, noise_levels['shot'], size=t.shape)\n",
    "    \n",
    "    # Adding thermal noise\n",
    "    thermal_noise = np.random.normal(0, noise_levels['thermal'], size=t.shape)\n",
    "    \n",
    "    # Adding amplifier noise\n",
    "    amplifier_noise = np.random.normal(0, noise_levels['amplifier'], size=t.shape)\n",
    "    \n",
    "    # Adding flicker noise (1/f noise)\n",
    "    flicker_noise = noise_levels['flicker'] * (np.random.normal(0, 1, size=t.shape) / np.sqrt(t + 1e-10))\n",
    "    \n",
    "    # Adding dark current noise\n",
    "    dark_current_noise = np.random.normal(0, noise_levels['dark_current'], size=t.shape)\n",
    "    \n",
    "    # Quantization noise\n",
    "    quantization_levels = noise_levels['quantization']\n",
    "    quantized_signal = np.round(signal * quantization_levels) / quantization_levels\n",
    "    quantization_noise = signal - quantized_signal\n",
    "    \n",
    "    # Total noisy signal\n",
    "    signal = (signal + shot_noise + thermal_noise + amplifier_noise +\n",
    "                    flicker_noise + dark_current_noise + quantization_noise)\n",
    "    \n",
    "    return signal\n",
    "\n",
    "# Parameters\n",
    "offset  = 40  # mV\n",
    "frequency = 1  # Hz\n",
    "amplitude = 4  # mV\n",
    "duration = 1  # seconds\n",
    "sampling_rate = 100000  # Hz\n",
    "interval = 100  # milliseconds between plot updates\n",
    "\n",
    "# Noise levels for different types of noise\n",
    "noise_levels = {\n",
    "    'shot': 0.1,\n",
    "    'thermal': 0.05,\n",
    "    'amplifier': 0.03,\n",
    "    'flicker': 0.1,\n",
    "    'dark_current': 0.01,\n",
    "    'quantization': 256  # Number of quantization levels\n",
    "}\n",
    "\n",
    "# Time array for one frame\n",
    "t = np.arange(0, duration, 1/sampling_rate)\n",
    "\n",
    "\n",
    "# Set up the figure and axis\n",
    "fig, ax = plt.subplots()\n",
    "line, = ax.plot(t, np.zeros_like(t))\n",
    "ax.set_ylim(offset*0.5, offset*2)\n",
    "ax.set_xlabel('Time (s)')\n",
    "ax.set_ylabel('Photodiode signal (mV)')\n",
    "ax.set_title('Simulation of the photodiode signal')\n",
    "\n",
    "def update(frame):\n",
    "    global simulation_ON\n",
    "    if simulation_ON:\n",
    "        signal = simulate_photodiode_signal(offset, frequency, amplitude, sampling_rate, noise_levels, t)\n",
    "        line.set_ydata(signal)\n",
    "    return line,\n",
    "\n",
    "# Create the animation\n",
    "ani = animation.FuncAnimation(fig, update, interval=interval, blit=True)\n",
    "\n",
    "# Function to stop the simulation (for testing purposes, will stop after 5 seconds)\n",
    "def stop_simulation():\n",
    "    global simulation_ON\n",
    "    import time\n",
    "    time.sleep(5)\n",
    "    simulation_ON = False\n",
    "\n",
    "# Run the stop_simulation function in a separate thread to simulate stopping the simulation\n",
    "thread = threading.Thread(target=stop_simulation)\n",
    "thread.start()\n",
    "\n",
    "plt.show()\n"
   ]
  },
  {
   "cell_type": "markdown",
   "metadata": {},
   "source": [
    "## Analyse du signal"
   ]
  },
  {
   "cell_type": "code",
   "execution_count": null,
   "metadata": {},
   "outputs": [],
   "source": [
    "# Analyse de Fourier du signal + analyse des bruits dans le domaine fréquentiel et temporel -> On pourra donc étudier l'éfficacité\n",
    "# du processus de locking au niveau des bruits de puissance (RQ importante: dans notre cas on est donc plutôt concerné par \n",
    "# les bruits d'amplitude que par les bruits de phase, qui vont induire du bruit de fréquence, auxquels on s'intéresserait si on faisait \n",
    "# du frequency locking)\n",
    "\n",
    "# pour cette section l'article sur les signaux aléatoires de f-legrand m'a beacoup aidé \n",
    "\n"
   ]
  },
  {
   "cell_type": "markdown",
   "metadata": {},
   "source": [
    "## PID Controller\n"
   ]
  },
  {
   "cell_type": "code",
   "execution_count": 2,
   "metadata": {},
   "outputs": [
    {
     "ename": "TypeError",
     "evalue": "unsupported operand type(s) for -: 'int' and 'NoneType'",
     "output_type": "error",
     "traceback": [
      "\u001b[1;31m---------------------------------------------------------------------------\u001b[0m",
      "\u001b[1;31mTypeError\u001b[0m                                 Traceback (most recent call last)",
      "Cell \u001b[1;32mIn [2], line 52\u001b[0m\n\u001b[0;32m     50\u001b[0m LockON \u001b[38;5;241m=\u001b[39m \u001b[38;5;28;01mTrue\u001b[39;00m\n\u001b[0;32m     51\u001b[0m \u001b[38;5;28;01mwhile\u001b[39;00m LockON: \n\u001b[1;32m---> 52\u001b[0m     output_signal \u001b[38;5;241m=\u001b[39m \u001b[43mpid\u001b[49m\u001b[43m(\u001b[49m\u001b[43minput_signal\u001b[49m\u001b[43m)\u001b[49m\n\u001b[0;32m     54\u001b[0m     input_signal \u001b[38;5;241m=\u001b[39m controlled_system\u001b[38;5;241m.\u001b[39mupdate(output_signal)\n\u001b[0;32m     57\u001b[0m \u001b[38;5;66;03m# Reset -> set each item to 0 and clear the integral \u001b[39;00m\n",
      "File \u001b[1;32mc:\\Python39\\lib\\site-packages\\simple_pid\\pid.py:126\u001b[0m, in \u001b[0;36mPID.__call__\u001b[1;34m(self, input_, dt)\u001b[0m\n\u001b[0;32m    123\u001b[0m     \u001b[38;5;28;01mreturn\u001b[39;00m \u001b[38;5;28mself\u001b[39m\u001b[38;5;241m.\u001b[39m_last_output\n\u001b[0;32m    125\u001b[0m \u001b[38;5;66;03m# Compute error terms\u001b[39;00m\n\u001b[1;32m--> 126\u001b[0m error \u001b[38;5;241m=\u001b[39m \u001b[38;5;28;43mself\u001b[39;49m\u001b[38;5;241;43m.\u001b[39;49m\u001b[43msetpoint\u001b[49m\u001b[43m \u001b[49m\u001b[38;5;241;43m-\u001b[39;49m\u001b[43m \u001b[49m\u001b[43minput_\u001b[49m\n\u001b[0;32m    127\u001b[0m d_input \u001b[38;5;241m=\u001b[39m input_ \u001b[38;5;241m-\u001b[39m (\u001b[38;5;28mself\u001b[39m\u001b[38;5;241m.\u001b[39m_last_input \u001b[38;5;28;01mif\u001b[39;00m (\u001b[38;5;28mself\u001b[39m\u001b[38;5;241m.\u001b[39m_last_input \u001b[38;5;129;01mis\u001b[39;00m \u001b[38;5;129;01mnot\u001b[39;00m \u001b[38;5;28;01mNone\u001b[39;00m) \u001b[38;5;28;01melse\u001b[39;00m input_)\n\u001b[0;32m    128\u001b[0m d_error \u001b[38;5;241m=\u001b[39m error \u001b[38;5;241m-\u001b[39m (\u001b[38;5;28mself\u001b[39m\u001b[38;5;241m.\u001b[39m_last_error \u001b[38;5;28;01mif\u001b[39;00m (\u001b[38;5;28mself\u001b[39m\u001b[38;5;241m.\u001b[39m_last_error \u001b[38;5;129;01mis\u001b[39;00m \u001b[38;5;129;01mnot\u001b[39;00m \u001b[38;5;28;01mNone\u001b[39;00m) \u001b[38;5;28;01melse\u001b[39;00m error)\n",
      "\u001b[1;31mTypeError\u001b[0m: unsupported operand type(s) for -: 'int' and 'NoneType'"
     ]
    }
   ],
   "source": [
    "# Variables\n",
    "kp = 0 \n",
    "ki = 0  \n",
    "kd = 0\n",
    "sp = 0\n",
    "sample_time = 0.01 # in seconds\n",
    "\n",
    "\n",
    "\n",
    "# Initialization of the PID object\n",
    "pid = PID()\n",
    "pid.sample_time = sample_time  # expressed in seconds\n",
    "pid.setpoint = sp\n",
    "\n",
    "# Rk: If the PID is designed to act in reverse mode, then we have to set the following values negative\n",
    "# All the tunnings should have the same sign\n",
    "pid.Ki = ki \n",
    "pid.Kp = kp\n",
    "pid.Kd = kd   \n",
    "\n",
    "# If needed, and to avoid integral windup, it's possible to set a range for \n",
    "# the output value of the PID\n",
    "\n",
    "# pid.output_limits = (0, 10)    # Output value will be between 0 and 10\n",
    "# pid.output_limits = (0, None)  # Output will always be above 0, but with no upper bound\n",
    "\n",
    "\n",
    "### Other more advanced features ###\n",
    "\n",
    "# On-Off possibilities for PID \n",
    "# pid.auto_mode = True\n",
    "# pid.set_auto_mode(True, last_output = 8.0)\n",
    "\n",
    "# Observe the different components contribution\n",
    "\n",
    "# by default: differential on measurment (OK)\n",
    "\n",
    "# Call a function on error signal before to do any computations \n",
    "\n",
    "# Override time function, which is time.monotonic() by default\n",
    "\n",
    "# Last remark: in the case of a simulation, it can be apt to set dt in \n",
    "# __call__(input_, dt= None) iff the simulation time is not the same as the real time\n",
    "\n",
    "\n",
    "\n",
    "\n",
    "input_signal = None\n",
    "\n",
    "LockON = True\n",
    "while LockON: \n",
    "    output_signal = pid(input_signal)\n",
    "\n",
    "    input_signal = controlled_system.update(output_signal)\n",
    "\n",
    "\n",
    "# Reset -> set each item to 0 and clear the integral \n",
    "pid.reset()\n"
   ]
  },
  {
   "cell_type": "markdown",
   "metadata": {},
   "source": []
  },
  {
   "cell_type": "code",
   "execution_count": null,
   "metadata": {},
   "outputs": [],
   "source": []
  }
 ],
 "metadata": {
  "kernelspec": {
   "display_name": "Python 3",
   "language": "python",
   "name": "python3"
  },
  "language_info": {
   "codemirror_mode": {
    "name": "ipython",
    "version": 3
   },
   "file_extension": ".py",
   "mimetype": "text/x-python",
   "name": "python",
   "nbconvert_exporter": "python",
   "pygments_lexer": "ipython3",
   "version": "3.9.2"
  }
 },
 "nbformat": 4,
 "nbformat_minor": 2
}
