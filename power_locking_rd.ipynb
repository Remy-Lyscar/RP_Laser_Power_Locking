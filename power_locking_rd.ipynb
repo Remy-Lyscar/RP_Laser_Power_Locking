{
 "cells": [
  {
   "cell_type": "code",
   "execution_count": 3,
   "metadata": {},
   "outputs": [],
   "source": [
    "# Creation of a random input signal in order to test the operations and the scheme before using directly RedPitaya Card\n",
    "# and the RedPitaya Python API\n",
    "\n",
    "import random \n",
    "import time \n",
    "import numpy as np \n",
    "import matplotlib.pyplot as plt \n",
    "# import pyqt \n",
    "# import os \n",
    "# import tqdm\n",
    "# import pandas as pd \n",
    "from simple_pid import PID"
   ]
  },
  {
   "cell_type": "markdown",
   "metadata": {},
   "source": [
    "## PID Controller\n"
   ]
  },
  {
   "cell_type": "code",
   "execution_count": null,
   "metadata": {},
   "outputs": [],
   "source": [
    "# Variables\n",
    "kp = 0 \n",
    "ki = 0  \n",
    "kd = 0\n",
    "sp = 0\n",
    "sample_time = 0.01 # in seconds\n",
    "\n",
    "\n",
    "\n",
    "# Initialization of the PID object\n",
    "pid = PID()\n",
    "pid.sample_time = sample_time  # expressed in seconds\n",
    "pid.setpoint = sp\n",
    "\n",
    "# Rk: If the PID is designed to act in reverse mode, then we have to set the following values negative\n",
    "# All the tunnings should have the same sign\n",
    "pid.Ki = ki \n",
    "pid.Kp = kp\n",
    "pid.Kd = kd   \n",
    "\n",
    "# If needed, and to avoid integral windup, it's possible to set a range for \n",
    "# the output value of the PID\n",
    "\n",
    "# pid.output_limits = (0, 10)    # Output value will be between 0 and 10\n",
    "# pid.output_limits = (0, None)  # Output will always be above 0, but with no upper bound\n",
    "\n",
    "\n",
    "### Other more advanced features ###\n",
    "\n",
    "# On-Off possibilities for PID \n",
    "# pid.auto_mode = True\n",
    "# pid.set_auto_mode(True, last_output = 8.0)\n",
    "\n",
    "# Observe the different components contribution\n",
    "\n",
    "# by default: differential on measurment (OK)\n",
    "\n",
    "# Call a function on error signal before to do any computations \n",
    "\n",
    "# Override time function, which is time.monotonic() by default\n",
    "\n",
    "# Last remark: in the case of a simulation, it can be apt to set dt in \n",
    "# __call__(input_, dt= None) iff the simulation time is not the same as the real time\n",
    "\n",
    "\n",
    "\n",
    "\n",
    "input_signal = None\n",
    "\n",
    "LockON = True\n",
    "while LockON: \n",
    "    output_signal = pid(input_signal)\n",
    "\n",
    "    input_signal = controlled_system.update(output_signal)\n",
    "\n",
    "\n",
    "# Reset -> set each item to 0 and clear the integral \n",
    "pid.reset()\n"
   ]
  },
  {
   "cell_type": "code",
   "execution_count": null,
   "metadata": {},
   "outputs": [],
   "source": []
  }
 ],
 "metadata": {
  "kernelspec": {
   "display_name": "Python 3",
   "language": "python",
   "name": "python3"
  },
  "language_info": {
   "codemirror_mode": {
    "name": "ipython",
    "version": 3
   },
   "file_extension": ".py",
   "mimetype": "text/x-python",
   "name": "python",
   "nbconvert_exporter": "python",
   "pygments_lexer": "ipython3",
   "version": "3.9.2"
  }
 },
 "nbformat": 4,
 "nbformat_minor": 2
}
